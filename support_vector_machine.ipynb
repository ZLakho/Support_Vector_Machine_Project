{
 "cells": [
  {
   "cell_type": "markdown",
   "metadata": {},
   "source": [
    "# Problem statement\n",
    "- A telecommunication company wants to reduce customer churn by identifying customer at risk of leaving. They have historical data on customer behaviour and want to build a model t0 predict which customers are most likely to churn"
   ]
  },
  {
   "cell_type": "markdown",
   "metadata": {},
   "source": [
    "# Support Vector Machines\n",
    "\n",
    "- type of linear regression"
   ]
  },
  {
   "cell_type": "code",
   "execution_count": 42,
   "metadata": {},
   "outputs": [
    {
     "name": "stdout",
     "output_type": "stream",
     "text": [
      "Accuracy is: 0.75\n",
      "report is:               precision    recall  f1-score   support\n",
      "\n",
      "           0       0.67      0.67      0.67         6\n",
      "           1       0.80      0.80      0.80        10\n",
      "\n",
      "    accuracy                           0.75        16\n",
      "   macro avg       0.73      0.73      0.73        16\n",
      "weighted avg       0.75      0.75      0.75        16\n",
      "\n"
     ]
    },
    {
     "name": "stderr",
     "output_type": "stream",
     "text": [
      "d:\\Xamp\\anaconda\\envs\\pythonEnvironment\\Lib\\site-packages\\sklearn\\utils\\validation.py:1229: DataConversionWarning: A column-vector y was passed when a 1d array was expected. Please change the shape of y to (n_samples, ), for example using ravel().\n",
      "  y = column_or_1d(y, warn=True)\n"
     ]
    }
   ],
   "source": [
    "# importing all necessary libraries\n",
    "import numpy as np # for numeric data\n",
    "import pandas as pd # for converting and playing with data and dataframes\n",
    "from sklearn.model_selection import train_test_split # for model training\n",
    "from sklearn.svm import SVC # SVC->support vector classifier\n",
    "\n",
    "# basically used to evaluate performance of a model \n",
    "# its optional but to know more about sklearn features we are using them too\n",
    "from sklearn.metrics import accuracy_score,classification_report\n",
    "\n",
    "# creating our data from scratch ,taking 3 features as\n",
    "data = {\n",
    "    'Age' : [20,18,26,32,40,55,34,21,34,27,19,21,35,37,44,48,50,51,23,33],\n",
    "    'Monthly_Charge' : [20,40,40,40,50,60,70,120,130,200,250,150,10,40,50,50,70,80,90,30],\n",
    "    'Churn' : [1,1,1,1,0,0,1,0,1,0,1,0,1,1,1,1,0,0,0,1]\n",
    "}\n",
    "\n",
    "# converting our data into dataframe\n",
    "df = pd.DataFrame(data)\n",
    "\n",
    "# training purpose,creating x and y variables based on our features or assigning features to x and y for training purpose\n",
    "X = df[['Age','Monthly_Charge']]\n",
    "Y = df[['Churn']]\n",
    "\n",
    "# creating training and testing data and splitting in accordingly\n",
    "X_train , X_test , Y_train , Y_test = train_test_split( X , Y , train_size = 0.2 , random_state = 55 )\n",
    "\n",
    "# kernel is basically a method in support vector classifier, creating an instance of our model\n",
    "# importing kernel as linear as it is widely used and fast and efficient or effective and simple to use\n",
    "model = SVC( kernel = 'linear' , C = 1.0 )\n",
    "\n",
    "# fitting train test data into our model\n",
    "model.fit(X_train , Y_train)\n",
    "\n",
    "prediction = model.predict(X_test)\n",
    "\n",
    "accuracy = accuracy_score(Y_test , prediction)\n",
    "report = classification_report(Y_test , prediction)\n",
    "\n",
    "print(f\"Accuracy is: {accuracy}\")\n",
    "print(f\"report is: {report}\")"
   ]
  },
  {
   "cell_type": "code",
   "execution_count": 44,
   "metadata": {},
   "outputs": [
    {
     "name": "stdout",
     "output_type": "stream",
     "text": [
      "Customer is at higher risk of churning\n"
     ]
    },
    {
     "name": "stderr",
     "output_type": "stream",
     "text": [
      "d:\\Xamp\\anaconda\\envs\\pythonEnvironment\\Lib\\site-packages\\sklearn\\base.py:493: UserWarning: X does not have valid feature names, but SVC was fitted with feature names\n",
      "  warnings.warn(\n"
     ]
    }
   ],
   "source": [
    "user_age = float(input(\"Enter customer's age : \"))\n",
    "user_Monthly_Charge = float(input(\"Enter customer's Monthly Charge  : \"))\n",
    "user_data = [[user_age,user_Monthly_Charge]]\n",
    "Input_prediction = model.predict(user_data)\n",
    "if Input_prediction == 0:\n",
    "    print(\"Customer is likely to stay\")\n",
    "else:\n",
    "    print(\"Customer is at higher risk of churning\")"
   ]
  },
  {
   "cell_type": "code",
   "execution_count": null,
   "metadata": {},
   "outputs": [],
   "source": []
  }
 ],
 "metadata": {
  "kernelspec": {
   "display_name": "Python 3",
   "language": "python",
   "name": "python3"
  },
  "language_info": {
   "codemirror_mode": {
    "name": "ipython",
    "version": 3
   },
   "file_extension": ".py",
   "mimetype": "text/x-python",
   "name": "python",
   "nbconvert_exporter": "python",
   "pygments_lexer": "ipython3",
   "version": "3.11.7"
  }
 },
 "nbformat": 4,
 "nbformat_minor": 2
}
